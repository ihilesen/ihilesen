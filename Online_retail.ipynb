{
  "nbformat": 4,
  "nbformat_minor": 0,
  "metadata": {
    "colab": {
      "provenance": [],
      "authorship_tag": "ABX9TyNuIqCjYcRfQeO88wh+ujqH",
      "include_colab_link": true
    },
    "kernelspec": {
      "name": "python3",
      "display_name": "Python 3"
    },
    "language_info": {
      "name": "python"
    }
  },
  "cells": [
    {
      "cell_type": "markdown",
      "metadata": {
        "id": "view-in-github",
        "colab_type": "text"
      },
      "source": [
        "<a href=\"https://colab.research.google.com/github/ihilesen/ihilesen/blob/main/Online_retail.ipynb\" target=\"_parent\"><img src=\"https://colab.research.google.com/assets/colab-badge.svg\" alt=\"Open In Colab\"/></a>"
      ]
    },
    {
      "cell_type": "markdown",
      "source": [
        "Analysis using Python for initial data cleaning"
      ],
      "metadata": {
        "id": "bvwr5vkyo9jJ"
      }
    },
    {
      "cell_type": "markdown",
      "source": [
        "Import excel dataset"
      ],
      "metadata": {
        "id": "2uPsAys5pFky"
      }
    },
    {
      "cell_type": "code",
      "execution_count": 2,
      "metadata": {
        "colab": {
          "base_uri": "https://localhost:8080/"
        },
        "id": "kgC3KbvMo4Pq",
        "outputId": "7da32c09-36c8-4f50-b734-7252d78f9349"
      },
      "outputs": [
        {
          "output_type": "stream",
          "name": "stdout",
          "text": [
            "Mounted at /content/drive\n"
          ]
        }
      ],
      "source": [
        "from google.colab import drive\n",
        "drive.mount('/content/drive')"
      ]
    },
    {
      "cell_type": "code",
      "source": [
        "import pandas as pd\n",
        "import numpy as np\n",
        "import matplotlib.pyplot as plt\n",
        "import seaborn as sns"
      ],
      "metadata": {
        "id": "W3NaKqYnqhr_"
      },
      "execution_count": 3,
      "outputs": []
    },
    {
      "cell_type": "code",
      "source": [
        "data = pd.ExcelFile('/content/drive/MyDrive/Colab Notebooks/datasets/1/Online Retail.xlsx')\n",
        "print(data.sheet_names)\n",
        "online_ret = data.parse('Online Retail')\n",
        "online_ret1 = data.parse(0)\n",
        "print(online_ret)"
      ],
      "metadata": {
        "colab": {
          "base_uri": "https://localhost:8080/"
        },
        "id": "2i3f5qxdqeaw",
        "outputId": "55d28eff-8827-4922-df71-b5130015d6d0"
      },
      "execution_count": 29,
      "outputs": [
        {
          "output_type": "stream",
          "name": "stdout",
          "text": [
            "['Online Retail']\n",
            "       InvoiceNo StockCode                          Description  Quantity  \\\n",
            "0         536365    85123A   WHITE HANGING HEART T-LIGHT HOLDER         6   \n",
            "1         536365     71053                  WHITE METAL LANTERN         6   \n",
            "2         536365    84406B       CREAM CUPID HEARTS COAT HANGER         8   \n",
            "3         536365    84029G  KNITTED UNION FLAG HOT WATER BOTTLE         6   \n",
            "4         536365    84029E       RED WOOLLY HOTTIE WHITE HEART.         6   \n",
            "...          ...       ...                                  ...       ...   \n",
            "541904    581587     22613          PACK OF 20 SPACEBOY NAPKINS        12   \n",
            "541905    581587     22899         CHILDREN'S APRON DOLLY GIRL          6   \n",
            "541906    581587     23254        CHILDRENS CUTLERY DOLLY GIRL          4   \n",
            "541907    581587     23255      CHILDRENS CUTLERY CIRCUS PARADE         4   \n",
            "541908    581587     22138        BAKING SET 9 PIECE RETROSPOT          3   \n",
            "\n",
            "               InvoiceDate  UnitPrice  CustomerID         Country  \n",
            "0      2010-12-01 08:26:00       2.55     17850.0  United Kingdom  \n",
            "1      2010-12-01 08:26:00       3.39     17850.0  United Kingdom  \n",
            "2      2010-12-01 08:26:00       2.75     17850.0  United Kingdom  \n",
            "3      2010-12-01 08:26:00       3.39     17850.0  United Kingdom  \n",
            "4      2010-12-01 08:26:00       3.39     17850.0  United Kingdom  \n",
            "...                    ...        ...         ...             ...  \n",
            "541904 2011-12-09 12:50:00       0.85     12680.0          France  \n",
            "541905 2011-12-09 12:50:00       2.10     12680.0          France  \n",
            "541906 2011-12-09 12:50:00       4.15     12680.0          France  \n",
            "541907 2011-12-09 12:50:00       4.15     12680.0          France  \n",
            "541908 2011-12-09 12:50:00       4.95     12680.0          France  \n",
            "\n",
            "[541909 rows x 8 columns]\n"
          ]
        }
      ]
    },
    {
      "cell_type": "markdown",
      "source": [
        "Create a copy of dataset"
      ],
      "metadata": {
        "id": "QJLniMxm1Hwb"
      }
    },
    {
      "cell_type": "code",
      "source": [
        "copy = online_ret.copy()\n",
        "print(copy)"
      ],
      "metadata": {
        "colab": {
          "base_uri": "https://localhost:8080/"
        },
        "id": "yAUXsygv1CKg",
        "outputId": "d73153ba-7ace-4ad8-812c-641a9dff233e"
      },
      "execution_count": 30,
      "outputs": [
        {
          "output_type": "stream",
          "name": "stdout",
          "text": [
            "       InvoiceNo StockCode                          Description  Quantity  \\\n",
            "0         536365    85123A   WHITE HANGING HEART T-LIGHT HOLDER         6   \n",
            "1         536365     71053                  WHITE METAL LANTERN         6   \n",
            "2         536365    84406B       CREAM CUPID HEARTS COAT HANGER         8   \n",
            "3         536365    84029G  KNITTED UNION FLAG HOT WATER BOTTLE         6   \n",
            "4         536365    84029E       RED WOOLLY HOTTIE WHITE HEART.         6   \n",
            "...          ...       ...                                  ...       ...   \n",
            "541904    581587     22613          PACK OF 20 SPACEBOY NAPKINS        12   \n",
            "541905    581587     22899         CHILDREN'S APRON DOLLY GIRL          6   \n",
            "541906    581587     23254        CHILDRENS CUTLERY DOLLY GIRL          4   \n",
            "541907    581587     23255      CHILDRENS CUTLERY CIRCUS PARADE         4   \n",
            "541908    581587     22138        BAKING SET 9 PIECE RETROSPOT          3   \n",
            "\n",
            "               InvoiceDate  UnitPrice  CustomerID         Country  \n",
            "0      2010-12-01 08:26:00       2.55     17850.0  United Kingdom  \n",
            "1      2010-12-01 08:26:00       3.39     17850.0  United Kingdom  \n",
            "2      2010-12-01 08:26:00       2.75     17850.0  United Kingdom  \n",
            "3      2010-12-01 08:26:00       3.39     17850.0  United Kingdom  \n",
            "4      2010-12-01 08:26:00       3.39     17850.0  United Kingdom  \n",
            "...                    ...        ...         ...             ...  \n",
            "541904 2011-12-09 12:50:00       0.85     12680.0          France  \n",
            "541905 2011-12-09 12:50:00       2.10     12680.0          France  \n",
            "541906 2011-12-09 12:50:00       4.15     12680.0          France  \n",
            "541907 2011-12-09 12:50:00       4.15     12680.0          France  \n",
            "541908 2011-12-09 12:50:00       4.95     12680.0          France  \n",
            "\n",
            "[541909 rows x 8 columns]\n"
          ]
        }
      ]
    },
    {
      "cell_type": "code",
      "source": [
        "null_values = online_ret.isnull().any()\n",
        "print(null_values)"
      ],
      "metadata": {
        "colab": {
          "base_uri": "https://localhost:8080/"
        },
        "id": "rsiuD2yQ1Mhk",
        "outputId": "52c8c04b-2f56-4e6a-b7ea-6a61c997136f"
      },
      "execution_count": 31,
      "outputs": [
        {
          "output_type": "stream",
          "name": "stdout",
          "text": [
            "InvoiceNo      False\n",
            "StockCode      False\n",
            "Description     True\n",
            "Quantity       False\n",
            "InvoiceDate    False\n",
            "UnitPrice      False\n",
            "CustomerID      True\n",
            "Country        False\n",
            "dtype: bool\n"
          ]
        }
      ]
    },
    {
      "cell_type": "code",
      "source": [
        "online_ret = online_ret.fillna(0)\n",
        "print(online_ret)"
      ],
      "metadata": {
        "colab": {
          "base_uri": "https://localhost:8080/"
        },
        "id": "kzCsKanr-KBL",
        "outputId": "19ec5dee-c926-4cf6-9b25-e6921f909485"
      },
      "execution_count": 32,
      "outputs": [
        {
          "output_type": "stream",
          "name": "stdout",
          "text": [
            "       InvoiceNo StockCode                          Description  Quantity  \\\n",
            "0         536365    85123A   WHITE HANGING HEART T-LIGHT HOLDER         6   \n",
            "1         536365     71053                  WHITE METAL LANTERN         6   \n",
            "2         536365    84406B       CREAM CUPID HEARTS COAT HANGER         8   \n",
            "3         536365    84029G  KNITTED UNION FLAG HOT WATER BOTTLE         6   \n",
            "4         536365    84029E       RED WOOLLY HOTTIE WHITE HEART.         6   \n",
            "...          ...       ...                                  ...       ...   \n",
            "541904    581587     22613          PACK OF 20 SPACEBOY NAPKINS        12   \n",
            "541905    581587     22899         CHILDREN'S APRON DOLLY GIRL          6   \n",
            "541906    581587     23254        CHILDRENS CUTLERY DOLLY GIRL          4   \n",
            "541907    581587     23255      CHILDRENS CUTLERY CIRCUS PARADE         4   \n",
            "541908    581587     22138        BAKING SET 9 PIECE RETROSPOT          3   \n",
            "\n",
            "               InvoiceDate  UnitPrice  CustomerID         Country  \n",
            "0      2010-12-01 08:26:00       2.55     17850.0  United Kingdom  \n",
            "1      2010-12-01 08:26:00       3.39     17850.0  United Kingdom  \n",
            "2      2010-12-01 08:26:00       2.75     17850.0  United Kingdom  \n",
            "3      2010-12-01 08:26:00       3.39     17850.0  United Kingdom  \n",
            "4      2010-12-01 08:26:00       3.39     17850.0  United Kingdom  \n",
            "...                    ...        ...         ...             ...  \n",
            "541904 2011-12-09 12:50:00       0.85     12680.0          France  \n",
            "541905 2011-12-09 12:50:00       2.10     12680.0          France  \n",
            "541906 2011-12-09 12:50:00       4.15     12680.0          France  \n",
            "541907 2011-12-09 12:50:00       4.15     12680.0          France  \n",
            "541908 2011-12-09 12:50:00       4.95     12680.0          France  \n",
            "\n",
            "[541909 rows x 8 columns]\n"
          ]
        }
      ]
    },
    {
      "cell_type": "code",
      "source": [
        "null = online_ret.isnull().any()\n",
        "print(null)"
      ],
      "metadata": {
        "colab": {
          "base_uri": "https://localhost:8080/"
        },
        "id": "un6zNrwW-tg_",
        "outputId": "467451dc-334b-4f1c-b43d-55acb63a23fd"
      },
      "execution_count": 33,
      "outputs": [
        {
          "output_type": "stream",
          "name": "stdout",
          "text": [
            "InvoiceNo      False\n",
            "StockCode      False\n",
            "Description    False\n",
            "Quantity       False\n",
            "InvoiceDate    False\n",
            "UnitPrice      False\n",
            "CustomerID     False\n",
            "Country        False\n",
            "dtype: bool\n"
          ]
        }
      ]
    },
    {
      "cell_type": "markdown",
      "source": [
        "DATA ANALYSIS"
      ],
      "metadata": {
        "id": "62dX4HRY_H3o"
      }
    },
    {
      "cell_type": "markdown",
      "source": [
        "Exploratory Analysis\n",
        "\n",
        "---\n",
        "How many unique customers, products, and invoices are in the dataset?\n",
        "\n"
      ],
      "metadata": {
        "id": "jRiCiExb_Lkl"
      }
    },
    {
      "cell_type": "code",
      "source": [
        "unique_customers = online_ret['CustomerID'].nunique()\n",
        "print(unique_customers)"
      ],
      "metadata": {
        "colab": {
          "base_uri": "https://localhost:8080/"
        },
        "id": "oftWXetN-18Q",
        "outputId": "2a7e3a86-cdcb-4bcd-fa55-121da09b47eb"
      },
      "execution_count": 34,
      "outputs": [
        {
          "output_type": "stream",
          "name": "stdout",
          "text": [
            "4373\n"
          ]
        }
      ]
    },
    {
      "cell_type": "code",
      "source": [
        "unique_products = online_ret['StockCode'].nunique()\n",
        "print(unique_products)"
      ],
      "metadata": {
        "colab": {
          "base_uri": "https://localhost:8080/"
        },
        "id": "z5RbRKqQ_-gh",
        "outputId": "2ab369e6-246e-449f-b1ad-806ce7678953"
      },
      "execution_count": 35,
      "outputs": [
        {
          "output_type": "stream",
          "name": "stdout",
          "text": [
            "4070\n"
          ]
        }
      ]
    },
    {
      "cell_type": "code",
      "source": [
        "unique_invoices = online_ret['InvoiceNo'].nunique()\n",
        "print(unique_invoices)"
      ],
      "metadata": {
        "colab": {
          "base_uri": "https://localhost:8080/"
        },
        "id": "XeJqc_n9AItS",
        "outputId": "dfbaeb2b-8954-4868-fde6-ef740e9dce17"
      },
      "execution_count": 36,
      "outputs": [
        {
          "output_type": "stream",
          "name": "stdout",
          "text": [
            "25900\n"
          ]
        }
      ]
    },
    {
      "cell_type": "markdown",
      "source": [
        "What are the top-selling products and which ones generate the most revenue?"
      ],
      "metadata": {
        "id": "urIz2bciAhUI"
      }
    },
    {
      "cell_type": "code",
      "source": [
        "top_selling_products = online_ret.groupby('Description')['Quantity'].sum().sort_values(ascending=False)\n",
        "print(top_selling_products.head(10))"
      ],
      "metadata": {
        "colab": {
          "base_uri": "https://localhost:8080/"
        },
        "id": "IS5wWRgSAlrv",
        "outputId": "a33ccddf-02d4-449d-e662-18d198ae2ae1"
      },
      "execution_count": 39,
      "outputs": [
        {
          "output_type": "stream",
          "name": "stdout",
          "text": [
            "Description\n",
            "WORLD WAR 2 GLIDERS ASSTD DESIGNS     53847\n",
            "JUMBO BAG RED RETROSPOT               47363\n",
            "ASSORTED COLOUR BIRD ORNAMENT         36381\n",
            "POPCORN HOLDER                        36334\n",
            "PACK OF 72 RETROSPOT CAKE CASES       36039\n",
            "WHITE HANGING HEART T-LIGHT HOLDER    35317\n",
            "RABBIT NIGHT LIGHT                    30680\n",
            "MINI PAINT SET VINTAGE                26437\n",
            "PACK OF 12 LONDON TISSUES             26315\n",
            "PACK OF 60 PINK PAISLEY CAKE CASES    24753\n",
            "Name: Quantity, dtype: int64\n"
          ]
        }
      ]
    },
    {
      "cell_type": "code",
      "source": [
        "online_ret[\"Revenue\"] = online_ret[\"Quantity\"] * online_ret[\"UnitPrice\"]\n",
        "print(online_ret[\"Revenue\"])"
      ],
      "metadata": {
        "colab": {
          "base_uri": "https://localhost:8080/"
        },
        "id": "RJCpQQQ3CncV",
        "outputId": "a90f2768-9906-4bc4-eb2f-4b9cf14edbe5"
      },
      "execution_count": 41,
      "outputs": [
        {
          "output_type": "stream",
          "name": "stdout",
          "text": [
            "0         15.30\n",
            "1         20.34\n",
            "2         22.00\n",
            "3         20.34\n",
            "4         20.34\n",
            "          ...  \n",
            "541904    10.20\n",
            "541905    12.60\n",
            "541906    16.60\n",
            "541907    16.60\n",
            "541908    14.85\n",
            "Name: Revenue, Length: 541909, dtype: float64\n"
          ]
        }
      ]
    },
    {
      "cell_type": "code",
      "source": [
        "top_revenue_products = online_ret.groupby(\"Description\")[\"Revenue\"].sum().sort_values(ascending=False)\n",
        "print(top_revenue_products.head(10))"
      ],
      "metadata": {
        "colab": {
          "base_uri": "https://localhost:8080/"
        },
        "id": "ClrhiX0WDFcV",
        "outputId": "439e52a5-b2fe-4591-d4c8-3ece6f36d7ac"
      },
      "execution_count": 42,
      "outputs": [
        {
          "output_type": "stream",
          "name": "stdout",
          "text": [
            "Description\n",
            "DOTCOM POSTAGE                        206245.48\n",
            "REGENCY CAKESTAND 3 TIER              164762.19\n",
            "WHITE HANGING HEART T-LIGHT HOLDER     99668.47\n",
            "PARTY BUNTING                          98302.98\n",
            "JUMBO BAG RED RETROSPOT                92356.03\n",
            "RABBIT NIGHT LIGHT                     66756.59\n",
            "POSTAGE                                66230.64\n",
            "PAPER CHAIN KIT 50'S CHRISTMAS         63791.94\n",
            "ASSORTED COLOUR BIRD ORNAMENT          58959.73\n",
            "CHILLI LIGHTS                          53768.06\n",
            "Name: Revenue, dtype: float64\n"
          ]
        }
      ]
    },
    {
      "cell_type": "markdown",
      "source": [
        "Classify customer segments.\n",
        "\n",
        "---\n",
        "By Spend\n"
      ],
      "metadata": {
        "id": "cjFlzQYyDZcV"
      }
    },
    {
      "cell_type": "code",
      "source": [
        "customer_revenue = online_ret.groupby(\"CustomerID\")[\"Revenue\"].sum()\n",
        "print(customer_revenue.head(5))"
      ],
      "metadata": {
        "colab": {
          "base_uri": "https://localhost:8080/"
        },
        "id": "MyGSYyBODa4k",
        "outputId": "93f080b6-58b1-44e0-98cc-c21b86fc751c"
      },
      "execution_count": 53,
      "outputs": [
        {
          "output_type": "stream",
          "name": "stdout",
          "text": [
            "CustomerID\n",
            "0.0        1447682.12\n",
            "12346.0          0.00\n",
            "12347.0       4310.00\n",
            "12348.0       1797.24\n",
            "12349.0       1757.55\n",
            "Name: Revenue, dtype: float64\n"
          ]
        }
      ]
    },
    {
      "cell_type": "code",
      "source": [
        "customer_segments = pd.qcut(customer_revenue, q=4, labels=[\"Low\", \"Mid\", \"High\", \"Top\"])\n",
        "print(customer_segments)"
      ],
      "metadata": {
        "colab": {
          "base_uri": "https://localhost:8080/"
        },
        "id": "UFFatVcSEHty",
        "outputId": "ff91e551-6669-436e-e535-597ae2432f54"
      },
      "execution_count": 58,
      "outputs": [
        {
          "output_type": "stream",
          "name": "stdout",
          "text": [
            "CustomerID\n",
            "0.0        Top\n",
            "12346.0    Low\n",
            "12347.0    Top\n",
            "12348.0    Top\n",
            "12349.0    Top\n",
            "          ... \n",
            "18280.0    Low\n",
            "18281.0    Low\n",
            "18282.0    Low\n",
            "18283.0    Top\n",
            "18287.0    Top\n",
            "Name: Revenue, Length: 4373, dtype: category\n",
            "Categories (4, object): ['Low' < 'Mid' < 'High' < 'Top']\n"
          ]
        }
      ]
    },
    {
      "cell_type": "code",
      "source": [
        "Value_segments = customer_segments.value_counts()\n",
        "print(Value_segments)"
      ],
      "metadata": {
        "colab": {
          "base_uri": "https://localhost:8080/"
        },
        "id": "QmyClS9gGz6a",
        "outputId": "1fcad1e6-4735-4364-cd02-90889eee6f6f"
      },
      "execution_count": 59,
      "outputs": [
        {
          "output_type": "stream",
          "name": "stdout",
          "text": [
            "Revenue\n",
            "Low     1094\n",
            "Mid     1093\n",
            "High    1093\n",
            "Top     1093\n",
            "Name: count, dtype: int64\n"
          ]
        }
      ]
    },
    {
      "cell_type": "markdown",
      "source": [
        "Identify the top 5% most valuable customers."
      ],
      "metadata": {
        "id": "nF9z4Q90HMPg"
      }
    },
    {
      "cell_type": "code",
      "source": [
        "top_5_percent_cutoff = customer_revenue.quantile(0.95)\n",
        "top_customers = customer_revenue[customer_revenue >= top_5_percent_cutoff]\n",
        "print(top_5_percent_cutoff)\n",
        "print(top_customers.head(10))"
      ],
      "metadata": {
        "colab": {
          "base_uri": "https://localhost:8080/"
        },
        "id": "pjFtuzx_HNSm",
        "outputId": "76f7f664-918e-401b-b9e6-648e36b6107d"
      },
      "execution_count": 63,
      "outputs": [
        {
          "output_type": "stream",
          "name": "stdout",
          "text": [
            "5646.189999999993\n",
            "CustomerID\n",
            "0.0        1447682.12\n",
            "12357.0       6207.67\n",
            "12359.0       6245.53\n",
            "12409.0      11056.93\n",
            "12415.0     123725.45\n",
            "12428.0       7877.20\n",
            "12431.0       6416.39\n",
            "12433.0      13375.87\n",
            "12435.0       7829.89\n",
            "12451.0       8933.52\n",
            "Name: Revenue, dtype: float64\n"
          ]
        }
      ]
    },
    {
      "cell_type": "markdown",
      "source": [
        "Sales Trends\n",
        "\n",
        "Analyze monthly or weekly sales trends."
      ],
      "metadata": {
        "id": "sKKx007LHs7k"
      }
    },
    {
      "cell_type": "code",
      "source": [
        "online_ret[\"Month\"] = online_ret[\"InvoiceDate\"].dt.to_period(\"M\")\n",
        "monthly_sales = online_ret.groupby(\"Month\")[\"Revenue\"].sum()\n",
        "print(monthly_sales)"
      ],
      "metadata": {
        "colab": {
          "base_uri": "https://localhost:8080/"
        },
        "id": "vZJKNTLsHuND",
        "outputId": "480afe63-8b10-4d92-c621-8fbbea8f2002"
      },
      "execution_count": 64,
      "outputs": [
        {
          "output_type": "stream",
          "name": "stdout",
          "text": [
            "Month\n",
            "2010-12     748957.020\n",
            "2011-01     560000.260\n",
            "2011-02     498062.650\n",
            "2011-03     683267.080\n",
            "2011-04     493207.121\n",
            "2011-05     723333.510\n",
            "2011-06     691123.120\n",
            "2011-07     681300.111\n",
            "2011-08     682680.510\n",
            "2011-09    1019687.622\n",
            "2011-10    1070704.670\n",
            "2011-11    1461756.250\n",
            "2011-12     433668.010\n",
            "Freq: M, Name: Revenue, dtype: float64\n"
          ]
        }
      ]
    },
    {
      "cell_type": "markdown",
      "source": [
        "Weekly sales"
      ],
      "metadata": {
        "id": "V6WWLZZ3IGt1"
      }
    },
    {
      "cell_type": "code",
      "source": [
        "online_ret[\"Week\"] = online_ret[\"InvoiceDate\"].dt.to_period(\"W\")\n",
        "weekly_sales = online_ret.groupby(\"Week\")[\"Revenue\"].sum()\n",
        "print(weekly_sales)"
      ],
      "metadata": {
        "colab": {
          "base_uri": "https://localhost:8080/"
        },
        "id": "AERgqIb8IICz",
        "outputId": "be0cd3e6-230a-4b70-fdf8-ade078786c40"
      },
      "execution_count": 65,
      "outputs": [
        {
          "output_type": "stream",
          "name": "stdout",
          "text": [
            "Week\n",
            "2010-11-29/2010-12-05    181847.250\n",
            "2010-12-06/2010-12-12    270287.030\n",
            "2010-12-13/2010-12-19    207052.170\n",
            "2010-12-20/2010-12-26     89770.570\n",
            "2011-01-03/2011-01-09     93720.930\n",
            "2011-01-10/2011-01-16    190994.960\n",
            "2011-01-17/2011-01-23    133782.910\n",
            "2011-01-24/2011-01-30    119136.810\n",
            "2011-01-31/2011-02-06    123642.180\n",
            "2011-02-07/2011-02-13    102296.930\n",
            "2011-02-14/2011-02-20    139664.580\n",
            "2011-02-21/2011-02-27    133069.930\n",
            "2011-02-28/2011-03-06    130435.560\n",
            "2011-03-07/2011-03-13    129180.960\n",
            "2011-03-14/2011-03-20    145262.610\n",
            "2011-03-21/2011-03-27    147909.800\n",
            "2011-03-28/2011-04-03    183501.710\n",
            "2011-04-04/2011-04-10    121598.220\n",
            "2011-04-11/2011-04-17    147459.771\n",
            "2011-04-18/2011-04-24    115461.250\n",
            "2011-04-25/2011-05-01     84382.660\n",
            "2011-05-02/2011-05-08    130354.310\n",
            "2011-05-09/2011-05-15    205445.230\n",
            "2011-05-16/2011-05-22    198031.530\n",
            "2011-05-23/2011-05-29    160569.820\n",
            "2011-05-30/2011-06-05    116932.520\n",
            "2011-06-06/2011-06-12    177916.870\n",
            "2011-06-13/2011-06-19    184016.500\n",
            "2011-06-20/2011-06-26    117086.710\n",
            "2011-06-27/2011-07-03    136287.440\n",
            "2011-07-04/2011-07-10    174659.170\n",
            "2011-07-11/2011-07-17    124163.170\n",
            "2011-07-18/2011-07-24    182513.960\n",
            "2011-07-25/2011-07-31    180814.851\n",
            "2011-08-01/2011-08-07    153176.200\n",
            "2011-08-08/2011-08-14    161417.020\n",
            "2011-08-15/2011-08-21    170724.890\n",
            "2011-08-22/2011-08-28    149603.500\n",
            "2011-08-29/2011-09-04    143819.060\n",
            "2011-09-05/2011-09-11    190513.470\n",
            "2011-09-12/2011-09-18    211722.620\n",
            "2011-09-19/2011-09-25    326156.721\n",
            "2011-09-26/2011-10-02    206858.231\n",
            "2011-10-03/2011-10-09    302466.590\n",
            "2011-10-10/2011-10-16    205734.640\n",
            "2011-10-17/2011-10-23    263762.220\n",
            "2011-10-24/2011-10-30    238642.190\n",
            "2011-10-31/2011-11-06    288266.770\n",
            "2011-11-07/2011-11-13    346560.140\n",
            "2011-11-14/2011-11-20    380407.570\n",
            "2011-11-21/2011-11-27    308185.020\n",
            "2011-11-28/2011-12-04    319874.990\n",
            "2011-12-05/2011-12-11    300605.220\n",
            "Freq: W-SUN, Name: Revenue, dtype: float64\n"
          ]
        }
      ]
    },
    {
      "cell_type": "markdown",
      "source": [
        "Peak and Low periods: Identify peak purchasing periods and low-activity seasons."
      ],
      "metadata": {
        "id": "2ZX1JcqtIXqc"
      }
    },
    {
      "cell_type": "code",
      "source": [
        "peak_months = monthly_sales.sort_values(ascending=False).head(3)\n",
        "low_months = monthly_sales.sort_values().head(3)\n",
        "print(peak_months)\n",
        "print(low_months)"
      ],
      "metadata": {
        "colab": {
          "base_uri": "https://localhost:8080/"
        },
        "id": "5JlVOlqaIabM",
        "outputId": "0f497839-ead5-4a95-ebaa-6503874361e5"
      },
      "execution_count": 67,
      "outputs": [
        {
          "output_type": "stream",
          "name": "stdout",
          "text": [
            "Month\n",
            "2011-11    1461756.250\n",
            "2011-10    1070704.670\n",
            "2011-09    1019687.622\n",
            "Freq: M, Name: Revenue, dtype: float64\n",
            "Month\n",
            "2011-12    433668.010\n",
            "2011-04    493207.121\n",
            "2011-02    498062.650\n",
            "Freq: M, Name: Revenue, dtype: float64\n"
          ]
        }
      ]
    }
  ]
}